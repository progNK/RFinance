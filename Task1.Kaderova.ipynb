{
 "cells": [
  {
   "cell_type": "markdown",
   "id": "7d5659e5",
   "metadata": {},
   "source": [
    "Кадерова Надия, 316 группа"
   ]
  },
  {
   "cell_type": "code",
   "execution_count": 126,
   "id": "58c2c1e6",
   "metadata": {},
   "outputs": [],
   "source": [
    "import pandas as pd\n",
    "import yfinance as yf\n",
    "import time\n",
    "import numpy as np\n",
    "import matplotlib.pyplot as plt"
   ]
  },
  {
   "cell_type": "markdown",
   "id": "1744c41e",
   "metadata": {},
   "source": [
    "Дата начала импорта:"
   ]
  },
  {
   "cell_type": "code",
   "execution_count": 127,
   "id": "314dcc59",
   "metadata": {},
   "outputs": [],
   "source": [
    "start_day = '2022-01-01'"
   ]
  },
  {
   "cell_type": "markdown",
   "id": "ed76f147",
   "metadata": {},
   "source": [
    "Исторические ежедневные цены закрытия для одного тикера:"
   ]
  },
  {
   "cell_type": "code",
   "execution_count": 128,
   "id": "191b3a7a",
   "metadata": {},
   "outputs": [],
   "source": [
    "def get_One_Asset(company,start_day):\n",
    "    df = pd.DataFrame()\n",
    "    returns = yf.Ticker(company)\n",
    "    data = returns.history(period=\"1y\",start=start_day)\n",
    "    df.index=data.index\n",
    "    df[company]=data.Close\n",
    "    return df"
   ]
  },
  {
   "cell_type": "markdown",
   "id": "77b548a3",
   "metadata": {},
   "source": [
    "Получаем данные цен закрытия для AOS A. O. Smith Industrials:"
   ]
  },
  {
   "cell_type": "code",
   "execution_count": 129,
   "id": "ecb1871f",
   "metadata": {
    "scrolled": true
   },
   "outputs": [
    {
     "data": {
      "text/html": [
       "<div>\n",
       "<style scoped>\n",
       "    .dataframe tbody tr th:only-of-type {\n",
       "        vertical-align: middle;\n",
       "    }\n",
       "\n",
       "    .dataframe tbody tr th {\n",
       "        vertical-align: top;\n",
       "    }\n",
       "\n",
       "    .dataframe thead th {\n",
       "        text-align: right;\n",
       "    }\n",
       "</style>\n",
       "<table border=\"1\" class=\"dataframe\">\n",
       "  <thead>\n",
       "    <tr style=\"text-align: right;\">\n",
       "      <th></th>\n",
       "      <th>AOS</th>\n",
       "    </tr>\n",
       "    <tr>\n",
       "      <th>Date</th>\n",
       "      <th></th>\n",
       "    </tr>\n",
       "  </thead>\n",
       "  <tbody>\n",
       "    <tr>\n",
       "      <th>2022-01-03 00:00:00-05:00</th>\n",
       "      <td>81.622810</td>\n",
       "    </tr>\n",
       "    <tr>\n",
       "      <th>2022-01-04 00:00:00-05:00</th>\n",
       "      <td>82.980408</td>\n",
       "    </tr>\n",
       "    <tr>\n",
       "      <th>2022-01-05 00:00:00-05:00</th>\n",
       "      <td>81.593498</td>\n",
       "    </tr>\n",
       "    <tr>\n",
       "      <th>2022-01-06 00:00:00-05:00</th>\n",
       "      <td>82.140457</td>\n",
       "    </tr>\n",
       "    <tr>\n",
       "      <th>2022-01-07 00:00:00-05:00</th>\n",
       "      <td>81.212593</td>\n",
       "    </tr>\n",
       "  </tbody>\n",
       "</table>\n",
       "</div>"
      ],
      "text/plain": [
       "                                 AOS\n",
       "Date                                \n",
       "2022-01-03 00:00:00-05:00  81.622810\n",
       "2022-01-04 00:00:00-05:00  82.980408\n",
       "2022-01-05 00:00:00-05:00  81.593498\n",
       "2022-01-06 00:00:00-05:00  82.140457\n",
       "2022-01-07 00:00:00-05:00  81.212593"
      ]
     },
     "execution_count": 129,
     "metadata": {},
     "output_type": "execute_result"
    }
   ],
   "source": [
    "company = 'AOS'\n",
    "asset = get_One_Asset(company,start_day)\n",
    "asset.head()"
   ]
  },
  {
   "cell_type": "markdown",
   "id": "afe8e539",
   "metadata": {},
   "source": [
    "Найдем количество:"
   ]
  },
  {
   "cell_type": "code",
   "execution_count": 130,
   "id": "aeac0c14",
   "metadata": {},
   "outputs": [
    {
     "data": {
      "text/plain": [
       "288"
      ]
     },
     "execution_count": 130,
     "metadata": {},
     "output_type": "execute_result"
    }
   ],
   "source": [
    "asset.size"
   ]
  },
  {
   "cell_type": "code",
   "execution_count": 131,
   "id": "0f56612a",
   "metadata": {},
   "outputs": [],
   "source": [
    "rates = np.zeros(asset.size)"
   ]
  },
  {
   "cell_type": "code",
   "execution_count": 132,
   "id": "ca53dad0",
   "metadata": {},
   "outputs": [],
   "source": [
    "for i in range(asset.size-1):\n",
    "    rates[i] = (asset['AOS'][i+1]/asset['AOS'][i]) - 1"
   ]
  },
  {
   "cell_type": "code",
   "execution_count": 133,
   "id": "298bfe19",
   "metadata": {},
   "outputs": [
    {
     "data": {
      "text/plain": [
       "0.01663257299061116"
      ]
     },
     "execution_count": 133,
     "metadata": {},
     "output_type": "execute_result"
    }
   ],
   "source": [
    "rates[0]"
   ]
  },
  {
   "cell_type": "markdown",
   "id": "289e4664",
   "metadata": {},
   "source": [
    "Получили доходности"
   ]
  },
  {
   "cell_type": "code",
   "execution_count": 134,
   "id": "5cf2a188",
   "metadata": {},
   "outputs": [
    {
     "data": {
      "text/plain": [
       "[<matplotlib.lines.Line2D at 0x285057c10>]"
      ]
     },
     "execution_count": 134,
     "metadata": {},
     "output_type": "execute_result"
    },
    {
     "data": {
      "image/png": "[encoded data removed]",
      "text/plain": [
       "<Figure size 640x480 with 1 Axes>"
      ]
     },
     "metadata": {},
     "output_type": "display_data"
    }
   ],
   "source": [
    "plt.plot(rates)"
   ]
  },
  {
   "cell_type": "markdown",
   "id": "6e5ff085",
   "metadata": {},
   "source": [
    "Имеем выборку доходностей, из нее возьмем процесс x:"
   ]
  },
  {
   "cell_type": "code",
   "execution_count": 135,
   "id": "b4e75831",
   "metadata": {},
   "outputs": [
    {
     "data": {
      "text/plain": [
       "[<matplotlib.lines.Line2D at 0x28503ac90>]"
      ]
     },
     "execution_count": 135,
     "metadata": {},
     "output_type": "execute_result"
    },
    {
     "data": {
      "image/png": "[encoded data removed]",
      "text/plain": [
       "<Figure size 640x480 with 1 Axes>"
      ]
     },
     "metadata": {},
     "output_type": "display_data"
    }
   ],
   "source": [
    "n = 100\n",
    "x = np.zeros(n)\n",
    "fi = 0.9\n",
    "for i in range (0,n):\n",
    "    x[i] = fi * x[i-1] + rates[i]\n",
    "plt.plot(x)    "
   ]
  },
  {
   "cell_type": "markdown",
   "id": "bf42f104",
   "metadata": {},
   "source": [
    "Проверим гипотезу случайности, проведя тест на случайность:"
   ]
  },
  {
   "cell_type": "code",
   "execution_count": 136,
   "id": "7f5c1c98",
   "metadata": {},
   "outputs": [],
   "source": [
    "import pymannkendall as mk"
   ]
  },
  {
   "cell_type": "code",
   "execution_count": 137,
   "id": "ce3597f2",
   "metadata": {},
   "outputs": [
    {
     "data": {
      "text/plain": [
       "Mann_Kendall_Test(trend='no trend', h=False, p=0.23931666840546195, z=1.1766964922937562, Tau=0.04653019744483159, s=1923.0, var_s=2667951.0, slope=1.562308949668675e-05, intercept=-0.004058354928872998)"
      ]
     },
     "execution_count": 137,
     "metadata": {},
     "output_type": "execute_result"
    }
   ],
   "source": [
    "mk.original_test(rates)"
   ]
  },
  {
   "cell_type": "markdown",
   "id": "28bbac97",
   "metadata": {},
   "source": [
    "Видим, что гипотеза случайности не отвергается. Посмотрим на результат для x:"
   ]
  },
  {
   "cell_type": "code",
   "execution_count": 138,
   "id": "4c0cae8c",
   "metadata": {},
   "outputs": [
    {
     "data": {
      "text/plain": [
       "Mann_Kendall_Test(trend='no trend', h=False, p=0.14696292831126367, z=1.4503428755858905, Tau=0.09858585858585858, s=488.0, var_s=112750.0, slope=0.00013557883897522718, intercept=-0.0391421625946948)"
      ]
     },
     "execution_count": 138,
     "metadata": {},
     "output_type": "execute_result"
    }
   ],
   "source": [
    "mk.original_test(x)"
   ]
  },
  {
   "cell_type": "markdown",
   "id": "43952aa7",
   "metadata": {},
   "source": [
    "Получили, что для x гипотеза случайности так же не отвергается. "
   ]
  },
  {
   "cell_type": "markdown",
   "id": "9400bda0",
   "metadata": {},
   "source": [
    "# Вывод:"
   ]
  },
  {
   "cell_type": "markdown",
   "id": "d702deb7",
   "metadata": {},
   "source": [
    "Гипотеза случайности не отвергается."
   ]
  },
  {
   "cell_type": "markdown",
   "id": "7fb1fcea",
   "metadata": {},
   "source": [
    "Проверим гипотезу однородности для части данных доходностей, для этого проведем тест Уилкоксона:"
   ]
  },
  {
   "cell_type": "markdown",
   "id": "ffecab41",
   "metadata": {},
   "source": [
    "Сначала разделим данные доходностей на 2 части: до 1 августа 2022 года и последующих (1 июля 2022 года не берем границей, потому что в таком случае выборки будут состоять из разного кол-ва элементов и тест Уилкоксона нельзя будет применить)"
   ]
  },
  {
   "cell_type": "code",
   "execution_count": 139,
   "id": "3b203503",
   "metadata": {},
   "outputs": [
    {
     "data": {
      "text/plain": [
       "AOS    81.62281\n",
       "Name: 2022-01-03 00:00:00-05:00, dtype: float64"
      ]
     },
     "execution_count": 139,
     "metadata": {},
     "output_type": "execute_result"
    }
   ],
   "source": [
    "asset.iloc[0]"
   ]
  },
  {
   "cell_type": "code",
   "execution_count": 15,
   "id": "1d4e5b65",
   "metadata": {},
   "outputs": [
    {
     "data": {
      "text/plain": [
       "AOS    53.843548\n",
       "Name: 2022-06-30 00:00:00-04:00, dtype: float64"
      ]
     },
     "execution_count": 15,
     "metadata": {},
     "output_type": "execute_result"
    }
   ],
   "source": [
    "asset.iloc[123]"
   ]
  },
  {
   "cell_type": "code",
   "execution_count": 16,
   "id": "6d65474b",
   "metadata": {},
   "outputs": [
    {
     "data": {
      "text/plain": [
       "AOS    61.265999\n",
       "Name: 2022-08-01 00:00:00-04:00, dtype: float64"
      ]
     },
     "execution_count": 16,
     "metadata": {},
     "output_type": "execute_result"
    }
   ],
   "source": [
    "asset.iloc[144]"
   ]
  },
  {
   "cell_type": "markdown",
   "id": "33e4d9c8",
   "metadata": {},
   "source": [
    "Видно, в какой момент будет проходить граница частей, тогда разделим доходности:"
   ]
  },
  {
   "cell_type": "code",
   "execution_count": 140,
   "id": "a86fcc02",
   "metadata": {},
   "outputs": [],
   "source": [
    "rates1 = np.zeros(144)\n",
    "rates2 = np.zeros(144)"
   ]
  },
  {
   "cell_type": "code",
   "execution_count": 141,
   "id": "adf4e30a",
   "metadata": {},
   "outputs": [],
   "source": [
    "for i in range(rates1.size):\n",
    "    rates1[i] = rates[i]\n",
    "for i in range(rates2.size):\n",
    "    rates2[i] = rates[i + rates1.size]    "
   ]
  },
  {
   "cell_type": "code",
   "execution_count": 142,
   "id": "644ee16e",
   "metadata": {
    "scrolled": true
   },
   "outputs": [
    {
     "name": "stdout",
     "output_type": "stream",
     "text": [
      "144\n",
      "144\n"
     ]
    }
   ],
   "source": [
    "print(rates1.size)\n",
    "print(rates2.size)"
   ]
  },
  {
   "cell_type": "code",
   "execution_count": 20,
   "id": "fd102284",
   "metadata": {},
   "outputs": [],
   "source": [
    "import scipy.stats as stats"
   ]
  },
  {
   "cell_type": "code",
   "execution_count": 143,
   "id": "62412308",
   "metadata": {},
   "outputs": [
    {
     "data": {
      "text/plain": [
       "WilcoxonResult(statistic=4965.0, pvalue=0.6110693468012701)"
      ]
     },
     "execution_count": 143,
     "metadata": {},
     "output_type": "execute_result"
    }
   ],
   "source": [
    "stats.wilcoxon(rates1, rates2)"
   ]
  },
  {
   "cell_type": "markdown",
   "id": "2bbd3400",
   "metadata": {},
   "source": [
    "Pvalue больше заданного уровня значимости - 0.05."
   ]
  },
  {
   "cell_type": "markdown",
   "id": "746ead24",
   "metadata": {},
   "source": [
    "# Вывод:"
   ]
  },
  {
   "cell_type": "markdown",
   "id": "a122a615",
   "metadata": {},
   "source": [
    "\n",
    "Гипотеза об однородности двух частей выборки не отвергается."
   ]
  },
  {
   "cell_type": "markdown",
   "id": "51dae084",
   "metadata": {},
   "source": [
    "Определим тип распределения для доходностей:"
   ]
  },
  {
   "cell_type": "code",
   "execution_count": 69,
   "id": "809eaa2c",
   "metadata": {},
   "outputs": [],
   "source": [
    "from fitter import Fitter, get_common_distributions, get_distributions\n"
   ]
  },
  {
   "cell_type": "code",
   "execution_count": 144,
   "id": "f1ec14ac",
   "metadata": {},
   "outputs": [
    {
     "name": "stderr",
     "output_type": "stream",
     "text": [
      "Fitting 5 distributions: 100%|████████████████████| 5/5 [00:00<00:00, 31.72it/s]\n"
     ]
    },
    {
     "data": {
      "text/html": [
       "<div>\n",
       "<style scoped>\n",
       "    .dataframe tbody tr th:only-of-type {\n",
       "        vertical-align: middle;\n",
       "    }\n",
       "\n",
       "    .dataframe tbody tr th {\n",
       "        vertical-align: top;\n",
       "    }\n",
       "\n",
       "    .dataframe thead th {\n",
       "        text-align: right;\n",
       "    }\n",
       "</style>\n",
       "<table border=\"1\" class=\"dataframe\">\n",
       "  <thead>\n",
       "    <tr style=\"text-align: right;\">\n",
       "      <th></th>\n",
       "      <th>sumsquare_error</th>\n",
       "      <th>aic</th>\n",
       "      <th>bic</th>\n",
       "      <th>kl_div</th>\n",
       "      <th>ks_statistic</th>\n",
       "      <th>ks_pvalue</th>\n",
       "    </tr>\n",
       "  </thead>\n",
       "  <tbody>\n",
       "    <tr>\n",
       "      <th>beta</th>\n",
       "      <td>1502.102090</td>\n",
       "      <td>154.965582</td>\n",
       "      <td>498.330014</td>\n",
       "      <td>inf</td>\n",
       "      <td>0.044321</td>\n",
       "      <td>6.074582e-01</td>\n",
       "    </tr>\n",
       "    <tr>\n",
       "      <th>norm</th>\n",
       "      <td>1510.003722</td>\n",
       "      <td>491.779600</td>\n",
       "      <td>488.515112</td>\n",
       "      <td>inf</td>\n",
       "      <td>0.060762</td>\n",
       "      <td>2.286498e-01</td>\n",
       "    </tr>\n",
       "    <tr>\n",
       "      <th>lognorm</th>\n",
       "      <td>1512.682384</td>\n",
       "      <td>96.018043</td>\n",
       "      <td>494.688516</td>\n",
       "      <td>inf</td>\n",
       "      <td>0.049228</td>\n",
       "      <td>4.728466e-01</td>\n",
       "    </tr>\n",
       "    <tr>\n",
       "      <th>burr</th>\n",
       "      <td>6209.223195</td>\n",
       "      <td>-208.230922</td>\n",
       "      <td>907.051054</td>\n",
       "      <td>inf</td>\n",
       "      <td>0.283979</td>\n",
       "      <td>4.804335e-21</td>\n",
       "    </tr>\n",
       "    <tr>\n",
       "      <th>gamma</th>\n",
       "      <td>8384.461288</td>\n",
       "      <td>-100.033860</td>\n",
       "      <td>987.887266</td>\n",
       "      <td>inf</td>\n",
       "      <td>0.505314</td>\n",
       "      <td>1.247656e-68</td>\n",
       "    </tr>\n",
       "  </tbody>\n",
       "</table>\n",
       "</div>"
      ],
      "text/plain": [
       "         sumsquare_error         aic         bic  kl_div  ks_statistic  \\\n",
       "beta         1502.102090  154.965582  498.330014     inf      0.044321   \n",
       "norm         1510.003722  491.779600  488.515112     inf      0.060762   \n",
       "lognorm      1512.682384   96.018043  494.688516     inf      0.049228   \n",
       "burr         6209.223195 -208.230922  907.051054     inf      0.283979   \n",
       "gamma        8384.461288 -100.033860  987.887266     inf      0.505314   \n",
       "\n",
       "            ks_pvalue  \n",
       "beta     6.074582e-01  \n",
       "norm     2.286498e-01  \n",
       "lognorm  4.728466e-01  \n",
       "burr     4.804335e-21  \n",
       "gamma    1.247656e-68  "
      ]
     },
     "execution_count": 144,
     "metadata": {},
     "output_type": "execute_result"
    },
    {
     "data": {
      "image/png": "[encoded data removed]",
      "text/plain": [
       "<Figure size 640x480 with 1 Axes>"
      ]
     },
     "metadata": {},
     "output_type": "display_data"
    }
   ],
   "source": [
    "f = Fitter(rates,\n",
    "           distributions=['gamma',\n",
    "                          'lognorm',\n",
    "                          \"beta\",\n",
    "                          \"burr\",\n",
    "                          \"norm\"])\n",
    "f.fit()\n",
    "f.summary()"
   ]
  },
  {
   "cell_type": "markdown",
   "id": "7726b599",
   "metadata": {},
   "source": [
    "Можно предположить, что распределение нормальное, либо логистическое"
   ]
  },
  {
   "cell_type": "markdown",
   "id": "bf985bf2",
   "metadata": {},
   "source": [
    "Разделим случайно выборку на 2 части: тренировочную и тестовую:"
   ]
  },
  {
   "cell_type": "code",
   "execution_count": 145,
   "id": "e390acdb",
   "metadata": {},
   "outputs": [],
   "source": [
    "rates_new = rates"
   ]
  },
  {
   "cell_type": "code",
   "execution_count": 192,
   "id": "4921efb6",
   "metadata": {},
   "outputs": [],
   "source": [
    "np.random.shuffle(rates_new)\n",
    "training, test = rates_new[:80], rates_new[80:]"
   ]
  },
  {
   "cell_type": "code",
   "execution_count": 169,
   "id": "98dd84fa",
   "metadata": {},
   "outputs": [
    {
     "data": {
      "text/plain": [
       "80"
      ]
     },
     "execution_count": 169,
     "metadata": {},
     "output_type": "execute_result"
    }
   ],
   "source": [
    "training.size"
   ]
  },
  {
   "cell_type": "code",
   "execution_count": 170,
   "id": "b610956d",
   "metadata": {},
   "outputs": [
    {
     "data": {
      "text/plain": [
       "208"
      ]
     },
     "execution_count": 170,
     "metadata": {},
     "output_type": "execute_result"
    }
   ],
   "source": [
    "test.size"
   ]
  },
  {
   "cell_type": "markdown",
   "id": "910aa1ae",
   "metadata": {},
   "source": [
    "Методом максимального правдоподобия оценим параметры предполагаемого распределения по тренировочной части выборки:"
   ]
  },
  {
   "cell_type": "code",
   "execution_count": 117,
   "id": "8a07faf3",
   "metadata": {},
   "outputs": [],
   "source": [
    "from scipy.stats import norm, lognorm"
   ]
  },
  {
   "cell_type": "code",
   "execution_count": 193,
   "id": "ae68c705",
   "metadata": {},
   "outputs": [
    {
     "data": {
      "text/plain": [
       "(-0.000430391532618124, 0.01703842003920989)"
      ]
     },
     "execution_count": 193,
     "metadata": {},
     "output_type": "execute_result"
    }
   ],
   "source": [
    "norm.fit(training)"
   ]
  },
  {
   "cell_type": "code",
   "execution_count": 194,
   "id": "2f907519",
   "metadata": {},
   "outputs": [
    {
     "data": {
      "text/plain": [
       "(0.06047927678021531, -0.28184098031048915, 0.2808962187907099)"
      ]
     },
     "execution_count": 194,
     "metadata": {},
     "output_type": "execute_result"
    }
   ],
   "source": [
    "lognorm.fit(training)"
   ]
  },
  {
   "cell_type": "code",
   "execution_count": 195,
   "id": "3100aead",
   "metadata": {},
   "outputs": [
    {
     "data": {
      "text/plain": [
       "-0.000430391532618124"
      ]
     },
     "execution_count": 195,
     "metadata": {},
     "output_type": "execute_result"
    }
   ],
   "source": [
    "r1 = np.mean(training)\n",
    "r1"
   ]
  },
  {
   "cell_type": "code",
   "execution_count": 196,
   "id": "581244d0",
   "metadata": {},
   "outputs": [
    {
     "data": {
      "text/plain": [
       "0.01703842003920989"
      ]
     },
     "execution_count": 196,
     "metadata": {},
     "output_type": "execute_result"
    }
   ],
   "source": [
    "r2 = np.std(training)\n",
    "r2"
   ]
  },
  {
   "cell_type": "markdown",
   "id": "cd2f9316",
   "metadata": {},
   "source": [
    "mean и std совпадают с параметрами нормального распределения"
   ]
  },
  {
   "cell_type": "markdown",
   "id": "f634a810",
   "metadata": {},
   "source": [
    "Проверим гипотезу согласия с предложенным распределением всей выборки критериями Колмогорова-Смирнова и Хи-квадрат Пирсона:"
   ]
  },
  {
   "cell_type": "markdown",
   "id": "557e8982",
   "metadata": {},
   "source": [
    "Предположили, что распредение нормальное. Проверим это."
   ]
  },
  {
   "cell_type": "code",
   "execution_count": 43,
   "id": "b7a7591e",
   "metadata": {},
   "outputs": [],
   "source": [
    "from scipy.stats import kstest"
   ]
  },
  {
   "cell_type": "code",
   "execution_count": 198,
   "id": "95e0ede7",
   "metadata": {},
   "outputs": [
    {
     "data": {
      "text/plain": [
       "KstestResult(statistic=0.4819648337341212, pvalue=4.456023395736342e-62, statistic_location=-0.04522286724479796, statistic_sign=-1)"
      ]
     },
     "execution_count": 198,
     "metadata": {},
     "output_type": "execute_result"
    }
   ],
   "source": [
    "kstest(rates, 'norm')"
   ]
  },
  {
   "cell_type": "markdown",
   "id": "b2b6a75d",
   "metadata": {},
   "source": [
    "pvalue < 0.05, а значит гипотезу нормальности отвергаем. Теперь проверим с параметрами, полученными из ММП:"
   ]
  },
  {
   "cell_type": "code",
   "execution_count": 199,
   "id": "2907b161",
   "metadata": {},
   "outputs": [
    {
     "data": {
      "text/plain": [
       "KstestResult(statistic=0.053275098128660714, pvalue=0.37396377311076545, statistic_location=-0.0009262458464918133, statistic_sign=1)"
      ]
     },
     "execution_count": 199,
     "metadata": {},
     "output_type": "execute_result"
    }
   ],
   "source": [
    "stats.kstest(rates,'norm',(r1,r2))"
   ]
  },
  {
   "cell_type": "markdown",
   "id": "cc97cd4d",
   "metadata": {},
   "source": [
    "Видим, что pvalue > 0.05, а значит гипотезу нормальности не отвергаем. С учетом оценки параметров получили разные результаты. В общем случае это может привести к ошибке, потому что оценивать параметры распределения нужно как можно более независимо от данной выборки. Мы видим, что оценка параметров привела к сильному увеличению значения p-value"
   ]
  },
  {
   "cell_type": "markdown",
   "id": "6b3c1afd",
   "metadata": {},
   "source": [
    "Теперь посмотрим с параметрами, полученными из ММП для логистического распределения:"
   ]
  },
  {
   "cell_type": "code",
   "execution_count": 201,
   "id": "8c62931e",
   "metadata": {},
   "outputs": [
    {
     "data": {
      "text/plain": [
       "KstestResult(statistic=0.049589989970155623, pvalue=0.4634801681115187, statistic_location=-0.03380007857555978, statistic_sign=1)"
      ]
     },
     "execution_count": 201,
     "metadata": {},
     "output_type": "execute_result"
    }
   ],
   "source": [
    "stats.kstest(rates,'lognorm',(0.06047927678021531, -0.28184098031048915, 0.2808962187907099))"
   ]
  },
  {
   "cell_type": "markdown",
   "id": "29ef8e4f",
   "metadata": {},
   "source": [
    "pvalue > 0.05, а значит гипотезу lognorm распределения не отвергаем. "
   ]
  },
  {
   "cell_type": "markdown",
   "id": "08d4b969",
   "metadata": {},
   "source": [
    "Критерий Хи-квадрат Пирсона:"
   ]
  },
  {
   "cell_type": "code",
   "execution_count": 202,
   "id": "f45fe767",
   "metadata": {},
   "outputs": [
    {
     "data": {
      "text/plain": [
       "Power_divergenceResult(statistic=-230.50757381319295, pvalue=1.0)"
      ]
     },
     "execution_count": 202,
     "metadata": {},
     "output_type": "execute_result"
    }
   ],
   "source": [
    "stats.chisquare(rates)"
   ]
  },
  {
   "cell_type": "code",
   "execution_count": null,
   "id": "13bccd8a",
   "metadata": {},
   "outputs": [],
   "source": [
    "Видим, что pvalue > 0.05, а значит гипотезу нормальности отвергнуть нельзя."
   ]
  },
  {
   "cell_type": "markdown",
   "id": "4dc1d8f1",
   "metadata": {},
   "source": [
    "# Вывод:"
   ]
  },
  {
   "cell_type": "markdown",
   "id": "aab7a425",
   "metadata": {},
   "source": [
    "Применяя различные тесты для проверки нормальности распределения, получили абсолютно противоположные результаты, в одном случае гипотеза нормальности отвергается, а в другом нет, в одном случае учитывалась оценка параметров. Критерий хи-квадрат Пирсона оценивать как простые, так и сложные гипотезы, в этом его преимущество. Также получаем, что доходности не могут иметь логистическое распределение, что отвергается критерием Колмогорова-Смирнова. То, что параметры получили из оценки тренировочной части выборки, полученной случайно, тоже повлияло на результат. Получатся, что результаты (отвергаем или принимаем гипотезу) зависят от параметров, от их оценки. Оценка параметров по данной выборке может привести к неверным результатам применения критериев."
   ]
  }
 ],
 "metadata": {
  "kernelspec": {
   "display_name": "Python 3 (ipykernel)",
   "language": "python",
   "name": "python3"
  },
  "language_info": {
   "codemirror_mode": {
    "name": "ipython",
    "version": 3
   },
   "file_extension": ".py",
   "mimetype": "text/x-python",
   "name": "python",
   "nbconvert_exporter": "python",
   "pygments_lexer": "ipython3",
   "version": "3.11.2"
  }
 },
 "nbformat": 4,
 "nbformat_minor": 5
}
